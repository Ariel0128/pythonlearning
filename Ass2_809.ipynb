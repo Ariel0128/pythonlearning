{
 "cells": [
  {
   "cell_type": "code",
   "execution_count": 1,
   "metadata": {},
   "outputs": [],
   "source": [
    "import pandas as pd\n",
    "import numpy as np\n",
    "import matplotlib.pyplot as plt"
   ]
  },
  {
   "cell_type": "code",
   "execution_count": 6,
   "metadata": {},
   "outputs": [
    {
     "data": {
      "text/html": [
       "<div>\n",
       "<style scoped>\n",
       "    .dataframe tbody tr th:only-of-type {\n",
       "        vertical-align: middle;\n",
       "    }\n",
       "\n",
       "    .dataframe tbody tr th {\n",
       "        vertical-align: top;\n",
       "    }\n",
       "\n",
       "    .dataframe thead th {\n",
       "        text-align: right;\n",
       "    }\n",
       "</style>\n",
       "<table border=\"1\" class=\"dataframe\">\n",
       "  <thead>\n",
       "    <tr style=\"text-align: right;\">\n",
       "      <th></th>\n",
       "      <th>fileName</th>\n",
       "      <th>subject</th>\n",
       "      <th>imgNum</th>\n",
       "      <th>label</th>\n",
       "      <th>ang</th>\n",
       "      <th>xF</th>\n",
       "      <th>yF</th>\n",
       "      <th>wF</th>\n",
       "      <th>hF</th>\n",
       "      <th>xRE</th>\n",
       "      <th>yRE</th>\n",
       "      <th>xLE</th>\n",
       "      <th>yLE</th>\n",
       "      <th>xN</th>\n",
       "      <th>yN</th>\n",
       "      <th>xRM</th>\n",
       "      <th>yRM</th>\n",
       "      <th>xLM</th>\n",
       "      <th>yLM</th>\n",
       "    </tr>\n",
       "  </thead>\n",
       "  <tbody>\n",
       "    <tr>\n",
       "      <td>0</td>\n",
       "      <td>20130529_01_Driv_001_f</td>\n",
       "      <td>1</td>\n",
       "      <td>1</td>\n",
       "      <td>2</td>\n",
       "      <td>0</td>\n",
       "      <td>292</td>\n",
       "      <td>209</td>\n",
       "      <td>100</td>\n",
       "      <td>112</td>\n",
       "      <td>323</td>\n",
       "      <td>232</td>\n",
       "      <td>367</td>\n",
       "      <td>231</td>\n",
       "      <td>353</td>\n",
       "      <td>254</td>\n",
       "      <td>332</td>\n",
       "      <td>278</td>\n",
       "      <td>361</td>\n",
       "      <td>278</td>\n",
       "    </tr>\n",
       "    <tr>\n",
       "      <td>1</td>\n",
       "      <td>20130529_01_Driv_002_f</td>\n",
       "      <td>1</td>\n",
       "      <td>2</td>\n",
       "      <td>2</td>\n",
       "      <td>0</td>\n",
       "      <td>286</td>\n",
       "      <td>200</td>\n",
       "      <td>109</td>\n",
       "      <td>128</td>\n",
       "      <td>324</td>\n",
       "      <td>235</td>\n",
       "      <td>366</td>\n",
       "      <td>235</td>\n",
       "      <td>353</td>\n",
       "      <td>258</td>\n",
       "      <td>333</td>\n",
       "      <td>281</td>\n",
       "      <td>361</td>\n",
       "      <td>281</td>\n",
       "    </tr>\n",
       "    <tr>\n",
       "      <td>2</td>\n",
       "      <td>20130529_01_Driv_003_f</td>\n",
       "      <td>1</td>\n",
       "      <td>3</td>\n",
       "      <td>2</td>\n",
       "      <td>0</td>\n",
       "      <td>290</td>\n",
       "      <td>204</td>\n",
       "      <td>105</td>\n",
       "      <td>121</td>\n",
       "      <td>325</td>\n",
       "      <td>240</td>\n",
       "      <td>367</td>\n",
       "      <td>239</td>\n",
       "      <td>351</td>\n",
       "      <td>260</td>\n",
       "      <td>334</td>\n",
       "      <td>282</td>\n",
       "      <td>362</td>\n",
       "      <td>282</td>\n",
       "    </tr>\n",
       "    <tr>\n",
       "      <td>3</td>\n",
       "      <td>20130529_01_Driv_004_f</td>\n",
       "      <td>1</td>\n",
       "      <td>4</td>\n",
       "      <td>2</td>\n",
       "      <td>0</td>\n",
       "      <td>287</td>\n",
       "      <td>202</td>\n",
       "      <td>112</td>\n",
       "      <td>118</td>\n",
       "      <td>325</td>\n",
       "      <td>230</td>\n",
       "      <td>369</td>\n",
       "      <td>230</td>\n",
       "      <td>353</td>\n",
       "      <td>253</td>\n",
       "      <td>335</td>\n",
       "      <td>274</td>\n",
       "      <td>362</td>\n",
       "      <td>275</td>\n",
       "    </tr>\n",
       "    <tr>\n",
       "      <td>4</td>\n",
       "      <td>20130529_01_Driv_005_f</td>\n",
       "      <td>1</td>\n",
       "      <td>5</td>\n",
       "      <td>2</td>\n",
       "      <td>0</td>\n",
       "      <td>290</td>\n",
       "      <td>193</td>\n",
       "      <td>104</td>\n",
       "      <td>119</td>\n",
       "      <td>325</td>\n",
       "      <td>224</td>\n",
       "      <td>366</td>\n",
       "      <td>225</td>\n",
       "      <td>353</td>\n",
       "      <td>244</td>\n",
       "      <td>333</td>\n",
       "      <td>268</td>\n",
       "      <td>363</td>\n",
       "      <td>268</td>\n",
       "    </tr>\n",
       "  </tbody>\n",
       "</table>\n",
       "</div>"
      ],
      "text/plain": [
       "                  fileName  subject  imgNum  label  ang   xF   yF   wF   hF  \\\n",
       "0  20130529_01_Driv_001_f         1       1      2    0  292  209  100  112   \n",
       "1  20130529_01_Driv_002_f         1       2      2    0  286  200  109  128   \n",
       "2  20130529_01_Driv_003_f         1       3      2    0  290  204  105  121   \n",
       "3  20130529_01_Driv_004_f         1       4      2    0  287  202  112  118   \n",
       "4  20130529_01_Driv_005_f         1       5      2    0  290  193  104  119   \n",
       "\n",
       "   xRE  yRE  xLE  yLE   xN   yN  xRM  yRM  xLM  yLM  \n",
       "0  323  232  367  231  353  254  332  278  361  278  \n",
       "1  324  235  366  235  353  258  333  281  361  281  \n",
       "2  325  240  367  239  351  260  334  282  362  282  \n",
       "3  325  230  369  230  353  253  335  274  362  275  \n",
       "4  325  224  366  225  353  244  333  268  363  268  "
      ]
     },
     "execution_count": 6,
     "metadata": {},
     "output_type": "execute_result"
    }
   ],
   "source": [
    "source = pd.read_csv('drivface.txt')\n",
    "source.head()"
   ]
  },
  {
   "cell_type": "code",
   "execution_count": 3,
   "metadata": {},
   "outputs": [
    {
     "name": "stdout",
     "output_type": "stream",
     "text": [
      "<class 'pandas.core.frame.DataFrame'>\n",
      "Index: 606 entries, 20130529_01_Driv_001_f  to 20130530_04_Driv_090_f \n",
      "Data columns (total 18 columns):\n",
      "subject    606 non-null int64\n",
      "imgNum     606 non-null int64\n",
      "label      606 non-null int64\n",
      "ang        606 non-null int64\n",
      "xF         606 non-null int64\n",
      "yF         606 non-null int64\n",
      "wF         606 non-null int64\n",
      "hF         606 non-null int64\n",
      "xRE        606 non-null int64\n",
      "yRE        606 non-null int64\n",
      "xLE        606 non-null int64\n",
      "yLE        606 non-null int64\n",
      "xN         606 non-null int64\n",
      "yN         606 non-null int64\n",
      "xRM        606 non-null int64\n",
      "yRM        606 non-null int64\n",
      "xLM        606 non-null int64\n",
      "yLM        606 non-null int64\n",
      "dtypes: int64(18)\n",
      "memory usage: 90.0+ KB\n"
     ]
    }
   ],
   "source": [
    "source.info()"
   ]
  },
  {
   "cell_type": "code",
   "execution_count": 13,
   "metadata": {},
   "outputs": [],
   "source": [
    "source = source.drop(columns = ['subject','label','ang'])"
   ]
  },
  {
   "cell_type": "code",
   "execution_count": 14,
   "metadata": {},
   "outputs": [
    {
     "data": {
      "text/plain": [
       "False"
      ]
     },
     "execution_count": 14,
     "metadata": {},
     "output_type": "execute_result"
    }
   ],
   "source": [
    "source.isnull().values.any()"
   ]
  },
  {
   "cell_type": "code",
   "execution_count": 19,
   "metadata": {},
   "outputs": [
    {
     "data": {
      "text/html": [
       "<div>\n",
       "<style scoped>\n",
       "    .dataframe tbody tr th:only-of-type {\n",
       "        vertical-align: middle;\n",
       "    }\n",
       "\n",
       "    .dataframe tbody tr th {\n",
       "        vertical-align: top;\n",
       "    }\n",
       "\n",
       "    .dataframe thead th {\n",
       "        text-align: right;\n",
       "    }\n",
       "</style>\n",
       "<table border=\"1\" class=\"dataframe\">\n",
       "  <thead>\n",
       "    <tr style=\"text-align: right;\">\n",
       "      <th></th>\n",
       "      <th>xF</th>\n",
       "      <th>yF</th>\n",
       "      <th>wF</th>\n",
       "      <th>hF</th>\n",
       "      <th>xRE</th>\n",
       "      <th>yRE</th>\n",
       "      <th>xLE</th>\n",
       "      <th>yLE</th>\n",
       "      <th>xN</th>\n",
       "      <th>yN</th>\n",
       "      <th>xRM</th>\n",
       "      <th>yRM</th>\n",
       "      <th>xLM</th>\n",
       "      <th>yLM</th>\n",
       "      <th>aF</th>\n",
       "      <th>dRN</th>\n",
       "      <th>dLN</th>\n",
       "    </tr>\n",
       "  </thead>\n",
       "  <tbody>\n",
       "    <tr>\n",
       "      <td>0</td>\n",
       "      <td>292</td>\n",
       "      <td>209</td>\n",
       "      <td>100</td>\n",
       "      <td>112</td>\n",
       "      <td>323</td>\n",
       "      <td>232</td>\n",
       "      <td>367</td>\n",
       "      <td>231</td>\n",
       "      <td>353</td>\n",
       "      <td>254</td>\n",
       "      <td>332</td>\n",
       "      <td>278</td>\n",
       "      <td>361</td>\n",
       "      <td>278</td>\n",
       "      <td>11200</td>\n",
       "      <td>37.202150</td>\n",
       "      <td>26.925824</td>\n",
       "    </tr>\n",
       "    <tr>\n",
       "      <td>1</td>\n",
       "      <td>286</td>\n",
       "      <td>200</td>\n",
       "      <td>109</td>\n",
       "      <td>128</td>\n",
       "      <td>324</td>\n",
       "      <td>235</td>\n",
       "      <td>366</td>\n",
       "      <td>235</td>\n",
       "      <td>353</td>\n",
       "      <td>258</td>\n",
       "      <td>333</td>\n",
       "      <td>281</td>\n",
       "      <td>361</td>\n",
       "      <td>281</td>\n",
       "      <td>13952</td>\n",
       "      <td>37.013511</td>\n",
       "      <td>26.419690</td>\n",
       "    </tr>\n",
       "    <tr>\n",
       "      <td>2</td>\n",
       "      <td>290</td>\n",
       "      <td>204</td>\n",
       "      <td>105</td>\n",
       "      <td>121</td>\n",
       "      <td>325</td>\n",
       "      <td>240</td>\n",
       "      <td>367</td>\n",
       "      <td>239</td>\n",
       "      <td>351</td>\n",
       "      <td>260</td>\n",
       "      <td>334</td>\n",
       "      <td>282</td>\n",
       "      <td>362</td>\n",
       "      <td>282</td>\n",
       "      <td>12705</td>\n",
       "      <td>32.802439</td>\n",
       "      <td>26.400758</td>\n",
       "    </tr>\n",
       "    <tr>\n",
       "      <td>3</td>\n",
       "      <td>287</td>\n",
       "      <td>202</td>\n",
       "      <td>112</td>\n",
       "      <td>118</td>\n",
       "      <td>325</td>\n",
       "      <td>230</td>\n",
       "      <td>369</td>\n",
       "      <td>230</td>\n",
       "      <td>353</td>\n",
       "      <td>253</td>\n",
       "      <td>335</td>\n",
       "      <td>274</td>\n",
       "      <td>362</td>\n",
       "      <td>275</td>\n",
       "      <td>13216</td>\n",
       "      <td>36.235342</td>\n",
       "      <td>28.017851</td>\n",
       "    </tr>\n",
       "    <tr>\n",
       "      <td>4</td>\n",
       "      <td>290</td>\n",
       "      <td>193</td>\n",
       "      <td>104</td>\n",
       "      <td>119</td>\n",
       "      <td>325</td>\n",
       "      <td>224</td>\n",
       "      <td>366</td>\n",
       "      <td>225</td>\n",
       "      <td>353</td>\n",
       "      <td>244</td>\n",
       "      <td>333</td>\n",
       "      <td>268</td>\n",
       "      <td>363</td>\n",
       "      <td>268</td>\n",
       "      <td>12376</td>\n",
       "      <td>34.409301</td>\n",
       "      <td>23.021729</td>\n",
       "    </tr>\n",
       "    <tr>\n",
       "      <td>...</td>\n",
       "      <td>...</td>\n",
       "      <td>...</td>\n",
       "      <td>...</td>\n",
       "      <td>...</td>\n",
       "      <td>...</td>\n",
       "      <td>...</td>\n",
       "      <td>...</td>\n",
       "      <td>...</td>\n",
       "      <td>...</td>\n",
       "      <td>...</td>\n",
       "      <td>...</td>\n",
       "      <td>...</td>\n",
       "      <td>...</td>\n",
       "      <td>...</td>\n",
       "      <td>...</td>\n",
       "      <td>...</td>\n",
       "      <td>...</td>\n",
       "    </tr>\n",
       "    <tr>\n",
       "      <td>601</td>\n",
       "      <td>278</td>\n",
       "      <td>183</td>\n",
       "      <td>128</td>\n",
       "      <td>141</td>\n",
       "      <td>307</td>\n",
       "      <td>218</td>\n",
       "      <td>354</td>\n",
       "      <td>210</td>\n",
       "      <td>330</td>\n",
       "      <td>247</td>\n",
       "      <td>324</td>\n",
       "      <td>273</td>\n",
       "      <td>356</td>\n",
       "      <td>266</td>\n",
       "      <td>18048</td>\n",
       "      <td>37.013511</td>\n",
       "      <td>44.102154</td>\n",
       "    </tr>\n",
       "    <tr>\n",
       "      <td>602</td>\n",
       "      <td>268</td>\n",
       "      <td>186</td>\n",
       "      <td>128</td>\n",
       "      <td>134</td>\n",
       "      <td>296</td>\n",
       "      <td>222</td>\n",
       "      <td>344</td>\n",
       "      <td>212</td>\n",
       "      <td>319</td>\n",
       "      <td>247</td>\n",
       "      <td>316</td>\n",
       "      <td>274</td>\n",
       "      <td>347</td>\n",
       "      <td>269</td>\n",
       "      <td>17152</td>\n",
       "      <td>33.970576</td>\n",
       "      <td>43.011626</td>\n",
       "    </tr>\n",
       "    <tr>\n",
       "      <td>603</td>\n",
       "      <td>264</td>\n",
       "      <td>187</td>\n",
       "      <td>127</td>\n",
       "      <td>131</td>\n",
       "      <td>287</td>\n",
       "      <td>220</td>\n",
       "      <td>334</td>\n",
       "      <td>211</td>\n",
       "      <td>304</td>\n",
       "      <td>247</td>\n",
       "      <td>305</td>\n",
       "      <td>272</td>\n",
       "      <td>337</td>\n",
       "      <td>270</td>\n",
       "      <td>16637</td>\n",
       "      <td>31.906112</td>\n",
       "      <td>46.861498</td>\n",
       "    </tr>\n",
       "    <tr>\n",
       "      <td>604</td>\n",
       "      <td>264</td>\n",
       "      <td>175</td>\n",
       "      <td>143</td>\n",
       "      <td>136</td>\n",
       "      <td>295</td>\n",
       "      <td>207</td>\n",
       "      <td>345</td>\n",
       "      <td>200</td>\n",
       "      <td>320</td>\n",
       "      <td>234</td>\n",
       "      <td>314</td>\n",
       "      <td>261</td>\n",
       "      <td>351</td>\n",
       "      <td>251</td>\n",
       "      <td>19448</td>\n",
       "      <td>36.796739</td>\n",
       "      <td>42.201896</td>\n",
       "    </tr>\n",
       "    <tr>\n",
       "      <td>605</td>\n",
       "      <td>266</td>\n",
       "      <td>170</td>\n",
       "      <td>141</td>\n",
       "      <td>139</td>\n",
       "      <td>303</td>\n",
       "      <td>206</td>\n",
       "      <td>354</td>\n",
       "      <td>198</td>\n",
       "      <td>331</td>\n",
       "      <td>229</td>\n",
       "      <td>319</td>\n",
       "      <td>255</td>\n",
       "      <td>362</td>\n",
       "      <td>247</td>\n",
       "      <td>19599</td>\n",
       "      <td>36.235342</td>\n",
       "      <td>38.600518</td>\n",
       "    </tr>\n",
       "  </tbody>\n",
       "</table>\n",
       "<p>606 rows × 17 columns</p>\n",
       "</div>"
      ],
      "text/plain": [
       "      xF   yF   wF   hF  xRE  yRE  xLE  yLE   xN   yN  xRM  yRM  xLM  yLM  \\\n",
       "0    292  209  100  112  323  232  367  231  353  254  332  278  361  278   \n",
       "1    286  200  109  128  324  235  366  235  353  258  333  281  361  281   \n",
       "2    290  204  105  121  325  240  367  239  351  260  334  282  362  282   \n",
       "3    287  202  112  118  325  230  369  230  353  253  335  274  362  275   \n",
       "4    290  193  104  119  325  224  366  225  353  244  333  268  363  268   \n",
       "..   ...  ...  ...  ...  ...  ...  ...  ...  ...  ...  ...  ...  ...  ...   \n",
       "601  278  183  128  141  307  218  354  210  330  247  324  273  356  266   \n",
       "602  268  186  128  134  296  222  344  212  319  247  316  274  347  269   \n",
       "603  264  187  127  131  287  220  334  211  304  247  305  272  337  270   \n",
       "604  264  175  143  136  295  207  345  200  320  234  314  261  351  251   \n",
       "605  266  170  141  139  303  206  354  198  331  229  319  255  362  247   \n",
       "\n",
       "        aF        dRN        dLN  \n",
       "0    11200  37.202150  26.925824  \n",
       "1    13952  37.013511  26.419690  \n",
       "2    12705  32.802439  26.400758  \n",
       "3    13216  36.235342  28.017851  \n",
       "4    12376  34.409301  23.021729  \n",
       "..     ...        ...        ...  \n",
       "601  18048  37.013511  44.102154  \n",
       "602  17152  33.970576  43.011626  \n",
       "603  16637  31.906112  46.861498  \n",
       "604  19448  36.796739  42.201896  \n",
       "605  19599  36.235342  38.600518  \n",
       "\n",
       "[606 rows x 17 columns]"
      ]
     },
     "execution_count": 19,
     "metadata": {},
     "output_type": "execute_result"
    }
   ],
   "source": [
    "data1 = source.drop(columns= ['fileName', 'imgNum'])\n",
    "data1.describe()\n",
    "data2 = data1\n",
    "\n",
    "data2['aF'] = data1.wF*data1.hF\n",
    "data2['dRN'] = np.sqrt(pow(data1.xRE-data1.xN,2)+pow(data1.yRE-data1.yN,2))\n",
    "data2['dLN'] = np.sqrt(pow(data1.xLE-data1.xN,2)+pow(data1.yLE-data1.yN,2))\n",
    "\n",
    "data2"
   ]
  },
  {
   "cell_type": "code",
   "execution_count": 21,
   "metadata": {},
   "outputs": [
    {
     "data": {
      "image/png": "[encoded data removed]",
      "text/plain": [
       "<Figure size 432x288 with 1 Axes>"
      ]
     },
     "metadata": {
      "needs_background": "light"
     },
     "output_type": "display_data"
    }
   ],
   "source": [
    "from sklearn.preprocessing import StandardScaler\n",
    "from sklearn.decomposition import PCA\n",
    "from sklearn.preprocessing import MinMaxScaler\n",
    "\n",
    "features = list(data1.columns)\n",
    "x = data1.loc[:, features].values\n",
    "x = StandardScaler().fit_transform(x)\n",
    "pca = PCA().fit(x)\n",
    "\n",
    "#Plotting the Cumulative Summation of the Explained Variance\n",
    "plt.figure()\n",
    "plt.xlabel('Number of Components')\n",
    "plt.plot(np.cumsum(pca.explained_variance_ratio_))\n",
    "plt.show()"
   ]
  },
  {
   "cell_type": "code",
   "execution_count": 22,
   "metadata": {},
   "outputs": [
    {
     "data": {
      "image/png": "[encoded data removed]",
      "text/plain": [
       "<Figure size 432x288 with 1 Axes>"
      ]
     },
     "metadata": {
      "needs_background": "light"
     },
     "output_type": "display_data"
    }
   ],
   "source": [
    "from sklearn.preprocessing import StandardScaler\n",
    "from sklearn.decomposition import PCA\n",
    "from sklearn.preprocessing import MinMaxScaler\n",
    "\n",
    "features2 = list(data2.columns)\n",
    "x2 = data2.loc[:, features2].values\n",
    "x2 = StandardScaler().fit_transform(x2)\n",
    "pca = PCA().fit(x2)\n",
    "\n",
    "#Plotting the Cumulative Summation of the Explained Variance\n",
    "plt.figure()\n",
    "plt.xlabel('Number of Components')\n",
    "plt.plot(np.cumsum(pca.explained_variance_ratio_))\n",
    "plt.show()"
   ]
  },
  {
   "cell_type": "markdown",
   "metadata": {},
   "source": [
    "very little influence..."
   ]
  },
  {
   "cell_type": "code",
   "execution_count": 24,
   "metadata": {},
   "outputs": [
    {
     "data": {
      "text/html": [
       "<div>\n",
       "<style scoped>\n",
       "    .dataframe tbody tr th:only-of-type {\n",
       "        vertical-align: middle;\n",
       "    }\n",
       "\n",
       "    .dataframe tbody tr th {\n",
       "        vertical-align: top;\n",
       "    }\n",
       "\n",
       "    .dataframe thead th {\n",
       "        text-align: right;\n",
       "    }\n",
       "</style>\n",
       "<table border=\"1\" class=\"dataframe\">\n",
       "  <thead>\n",
       "    <tr style=\"text-align: right;\">\n",
       "      <th></th>\n",
       "      <th>0</th>\n",
       "      <th>1</th>\n",
       "      <th>2</th>\n",
       "      <th>3</th>\n",
       "      <th>4</th>\n",
       "      <th>5</th>\n",
       "      <th>6</th>\n",
       "      <th>7</th>\n",
       "      <th>8</th>\n",
       "      <th>9</th>\n",
       "      <th>10</th>\n",
       "      <th>11</th>\n",
       "      <th>12</th>\n",
       "      <th>13</th>\n",
       "      <th>14</th>\n",
       "      <th>15</th>\n",
       "      <th>16</th>\n",
       "    </tr>\n",
       "  </thead>\n",
       "  <tbody>\n",
       "    <tr>\n",
       "      <td>count</td>\n",
       "      <td>6.060000e+02</td>\n",
       "      <td>6.060000e+02</td>\n",
       "      <td>6.060000e+02</td>\n",
       "      <td>6.060000e+02</td>\n",
       "      <td>6.060000e+02</td>\n",
       "      <td>6.060000e+02</td>\n",
       "      <td>6.060000e+02</td>\n",
       "      <td>6.060000e+02</td>\n",
       "      <td>6.060000e+02</td>\n",
       "      <td>6.060000e+02</td>\n",
       "      <td>6.060000e+02</td>\n",
       "      <td>6.060000e+02</td>\n",
       "      <td>6.060000e+02</td>\n",
       "      <td>6.060000e+02</td>\n",
       "      <td>6.060000e+02</td>\n",
       "      <td>6.060000e+02</td>\n",
       "      <td>6.060000e+02</td>\n",
       "    </tr>\n",
       "    <tr>\n",
       "      <td>mean</td>\n",
       "      <td>-9.878420e-16</td>\n",
       "      <td>-5.296460e-16</td>\n",
       "      <td>9.064989e-16</td>\n",
       "      <td>-1.157490e-15</td>\n",
       "      <td>5.741648e-16</td>\n",
       "      <td>3.185937e-16</td>\n",
       "      <td>-6.884848e-16</td>\n",
       "      <td>-2.308385e-16</td>\n",
       "      <td>-3.686087e-16</td>\n",
       "      <td>-5.296460e-16</td>\n",
       "      <td>-1.037674e-15</td>\n",
       "      <td>8.192933e-16</td>\n",
       "      <td>1.800906e-16</td>\n",
       "      <td>5.153560e-16</td>\n",
       "      <td>3.348990e-16</td>\n",
       "      <td>1.180757e-16</td>\n",
       "      <td>-1.908997e-16</td>\n",
       "    </tr>\n",
       "    <tr>\n",
       "      <td>std</td>\n",
       "      <td>1.000826e+00</td>\n",
       "      <td>1.000826e+00</td>\n",
       "      <td>1.000826e+00</td>\n",
       "      <td>1.000826e+00</td>\n",
       "      <td>1.000826e+00</td>\n",
       "      <td>1.000826e+00</td>\n",
       "      <td>1.000826e+00</td>\n",
       "      <td>1.000826e+00</td>\n",
       "      <td>1.000826e+00</td>\n",
       "      <td>1.000826e+00</td>\n",
       "      <td>1.000826e+00</td>\n",
       "      <td>1.000826e+00</td>\n",
       "      <td>1.000826e+00</td>\n",
       "      <td>1.000826e+00</td>\n",
       "      <td>1.000826e+00</td>\n",
       "      <td>1.000826e+00</td>\n",
       "      <td>1.000826e+00</td>\n",
       "    </tr>\n",
       "    <tr>\n",
       "      <td>min</td>\n",
       "      <td>-2.354329e+00</td>\n",
       "      <td>-1.583320e+00</td>\n",
       "      <td>-3.624508e+00</td>\n",
       "      <td>-2.660409e+00</td>\n",
       "      <td>-2.981200e+00</td>\n",
       "      <td>-1.602411e+00</td>\n",
       "      <td>-3.074151e+00</td>\n",
       "      <td>-1.685640e+00</td>\n",
       "      <td>-3.395781e+00</td>\n",
       "      <td>-1.667682e+00</td>\n",
       "      <td>-3.122363e+00</td>\n",
       "      <td>-1.595208e+00</td>\n",
       "      <td>-3.070833e+00</td>\n",
       "      <td>-1.627470e+00</td>\n",
       "      <td>-2.921474e+00</td>\n",
       "      <td>-3.634465e+00</td>\n",
       "      <td>-2.075582e+00</td>\n",
       "    </tr>\n",
       "    <tr>\n",
       "      <td>25%</td>\n",
       "      <td>-8.119253e-01</td>\n",
       "      <td>-8.407579e-01</td>\n",
       "      <td>-6.990631e-01</td>\n",
       "      <td>-6.757940e-01</td>\n",
       "      <td>-7.389052e-01</td>\n",
       "      <td>-8.166357e-01</td>\n",
       "      <td>-8.481797e-01</td>\n",
       "      <td>-8.191665e-01</td>\n",
       "      <td>-6.760555e-01</td>\n",
       "      <td>-7.539020e-01</td>\n",
       "      <td>-7.506507e-01</td>\n",
       "      <td>-8.278874e-01</td>\n",
       "      <td>-7.585897e-01</td>\n",
       "      <td>-7.742099e-01</td>\n",
       "      <td>-5.704068e-01</td>\n",
       "      <td>-6.066258e-01</td>\n",
       "      <td>-6.575149e-01</td>\n",
       "    </tr>\n",
       "    <tr>\n",
       "      <td>50%</td>\n",
       "      <td>3.905597e-02</td>\n",
       "      <td>-3.472873e-02</td>\n",
       "      <td>-2.528673e-03</td>\n",
       "      <td>1.414004e-01</td>\n",
       "      <td>-7.722066e-03</td>\n",
       "      <td>-5.705299e-02</td>\n",
       "      <td>1.185448e-02</td>\n",
       "      <td>-5.171877e-02</td>\n",
       "      <td>-1.672799e-02</td>\n",
       "      <td>-9.394979e-02</td>\n",
       "      <td>3.991990e-02</td>\n",
       "      <td>-1.756649e-01</td>\n",
       "      <td>-1.396892e-02</td>\n",
       "      <td>-1.647384e-01</td>\n",
       "      <td>-7.994282e-02</td>\n",
       "      <td>7.520894e-02</td>\n",
       "      <td>-2.144166e-01</td>\n",
       "    </tr>\n",
       "    <tr>\n",
       "      <td>75%</td>\n",
       "      <td>5.709192e-01</td>\n",
       "      <td>1.158448e+00</td>\n",
       "      <td>5.546989e-01</td>\n",
       "      <td>7.251107e-01</td>\n",
       "      <td>6.259700e-01</td>\n",
       "      <td>1.147802e+00</td>\n",
       "      <td>6.695277e-01</td>\n",
       "      <td>1.136587e+00</td>\n",
       "      <td>6.425995e-01</td>\n",
       "      <td>1.149806e+00</td>\n",
       "      <td>6.723764e-01</td>\n",
       "      <td>1.192723e+00</td>\n",
       "      <td>5.869531e-01</td>\n",
       "      <td>1.218762e+00</td>\n",
       "      <td>6.300810e-01</td>\n",
       "      <td>6.550164e-01</td>\n",
       "      <td>5.717394e-01</td>\n",
       "    </tr>\n",
       "    <tr>\n",
       "      <td>max</td>\n",
       "      <td>3.389795e+00</td>\n",
       "      <td>1.716957e+00</td>\n",
       "      <td>4.176678e+00</td>\n",
       "      <td>2.592984e+00</td>\n",
       "      <td>3.258229e+00</td>\n",
       "      <td>1.802615e+00</td>\n",
       "      <td>3.097860e+00</td>\n",
       "      <td>1.780253e+00</td>\n",
       "      <td>3.238702e+00</td>\n",
       "      <td>1.860524e+00</td>\n",
       "      <td>2.885974e+00</td>\n",
       "      <td>1.832157e+00</td>\n",
       "      <td>2.938387e+00</td>\n",
       "      <td>1.858707e+00</td>\n",
       "      <td>3.699430e+00</td>\n",
       "      <td>2.879013e+00</td>\n",
       "      <td>3.356875e+00</td>\n",
       "    </tr>\n",
       "  </tbody>\n",
       "</table>\n",
       "</div>"
      ],
      "text/plain": [
       "                 0             1             2             3             4   \\\n",
       "count  6.060000e+02  6.060000e+02  6.060000e+02  6.060000e+02  6.060000e+02   \n",
       "mean  -9.878420e-16 -5.296460e-16  9.064989e-16 -1.157490e-15  5.741648e-16   \n",
       "std    1.000826e+00  1.000826e+00  1.000826e+00  1.000826e+00  1.000826e+00   \n",
       "min   -2.354329e+00 -1.583320e+00 -3.624508e+00 -2.660409e+00 -2.981200e+00   \n",
       "25%   -8.119253e-01 -8.407579e-01 -6.990631e-01 -6.757940e-01 -7.389052e-01   \n",
       "50%    3.905597e-02 -3.472873e-02 -2.528673e-03  1.414004e-01 -7.722066e-03   \n",
       "75%    5.709192e-01  1.158448e+00  5.546989e-01  7.251107e-01  6.259700e-01   \n",
       "max    3.389795e+00  1.716957e+00  4.176678e+00  2.592984e+00  3.258229e+00   \n",
       "\n",
       "                 5             6             7             8             9   \\\n",
       "count  6.060000e+02  6.060000e+02  6.060000e+02  6.060000e+02  6.060000e+02   \n",
       "mean   3.185937e-16 -6.884848e-16 -2.308385e-16 -3.686087e-16 -5.296460e-16   \n",
       "std    1.000826e+00  1.000826e+00  1.000826e+00  1.000826e+00  1.000826e+00   \n",
       "min   -1.602411e+00 -3.074151e+00 -1.685640e+00 -3.395781e+00 -1.667682e+00   \n",
       "25%   -8.166357e-01 -8.481797e-01 -8.191665e-01 -6.760555e-01 -7.539020e-01   \n",
       "50%   -5.705299e-02  1.185448e-02 -5.171877e-02 -1.672799e-02 -9.394979e-02   \n",
       "75%    1.147802e+00  6.695277e-01  1.136587e+00  6.425995e-01  1.149806e+00   \n",
       "max    1.802615e+00  3.097860e+00  1.780253e+00  3.238702e+00  1.860524e+00   \n",
       "\n",
       "                 10            11            12            13            14  \\\n",
       "count  6.060000e+02  6.060000e+02  6.060000e+02  6.060000e+02  6.060000e+02   \n",
       "mean  -1.037674e-15  8.192933e-16  1.800906e-16  5.153560e-16  3.348990e-16   \n",
       "std    1.000826e+00  1.000826e+00  1.000826e+00  1.000826e+00  1.000826e+00   \n",
       "min   -3.122363e+00 -1.595208e+00 -3.070833e+00 -1.627470e+00 -2.921474e+00   \n",
       "25%   -7.506507e-01 -8.278874e-01 -7.585897e-01 -7.742099e-01 -5.704068e-01   \n",
       "50%    3.991990e-02 -1.756649e-01 -1.396892e-02 -1.647384e-01 -7.994282e-02   \n",
       "75%    6.723764e-01  1.192723e+00  5.869531e-01  1.218762e+00  6.300810e-01   \n",
       "max    2.885974e+00  1.832157e+00  2.938387e+00  1.858707e+00  3.699430e+00   \n",
       "\n",
       "                 15            16  \n",
       "count  6.060000e+02  6.060000e+02  \n",
       "mean   1.180757e-16 -1.908997e-16  \n",
       "std    1.000826e+00  1.000826e+00  \n",
       "min   -3.634465e+00 -2.075582e+00  \n",
       "25%   -6.066258e-01 -6.575149e-01  \n",
       "50%    7.520894e-02 -2.144166e-01  \n",
       "75%    6.550164e-01  5.717394e-01  \n",
       "max    2.879013e+00  3.356875e+00  "
      ]
     },
     "execution_count": 24,
     "metadata": {},
     "output_type": "execute_result"
    }
   ],
   "source": [
    "from sklearn.cluster import KMeans\n",
    "pd.DataFrame(x).describe()"
   ]
  },
  {
   "cell_type": "code",
   "execution_count": 25,
   "metadata": {},
   "outputs": [
    {
     "data": {
      "text/plain": [
       "KMeans(algorithm='auto', copy_x=True, init='k-means++', max_iter=300,\n",
       "       n_clusters=2, n_init=10, n_jobs=None, precompute_distances='auto',\n",
       "       random_state=None, tol=0.0001, verbose=0)"
      ]
     },
     "execution_count": 25,
     "metadata": {},
     "output_type": "execute_result"
    }
   ],
   "source": [
    "kmeans = KMeans(n_clusters=2, init='k-means++')\n",
    "kmeans.fit(x)"
   ]
  },
  {
   "cell_type": "code",
   "execution_count": 26,
   "metadata": {},
   "outputs": [
    {
     "data": {
      "text/plain": [
       "7017.552868241269"
      ]
     },
     "execution_count": 26,
     "metadata": {},
     "output_type": "execute_result"
    }
   ],
   "source": [
    "kmeans.inertia_\n",
    "kmeans.cluster_centers_"
   ]
  },
  {
   "cell_type": "code",
   "execution_count": 28,
   "metadata": {},
   "outputs": [
    {
     "data": {
      "text/plain": [
       "array([1, 1, 1, 1, 1, 1, 1, 1, 1, 1, 1, 1, 1, 1, 1, 1, 1, 1, 1, 1, 1, 1,\n",
       "       1, 1, 1, 1, 1, 1, 1, 1, 1, 1, 1, 1, 1, 1, 1, 1, 1, 1, 1, 1, 1, 1,\n",
       "       1, 1, 1, 1, 1, 1, 1, 1, 1, 1, 1, 1, 1, 1, 1, 1, 1, 1, 1, 1, 1, 1,\n",
       "       1, 1, 1, 1, 1, 1, 1, 1, 1, 1, 1, 1, 1, 1, 1, 1, 1, 1, 1, 1, 1, 1,\n",
       "       1, 1, 1, 1, 1, 1, 1, 1, 1, 1, 1, 1, 1, 1, 1, 1, 1, 1, 1, 1, 1, 1,\n",
       "       1, 1, 1, 1, 1, 1, 1, 1, 1, 1, 1, 1, 1, 1, 1, 1, 1, 1, 1, 1, 1, 1,\n",
       "       1, 1, 1, 1, 1, 1, 1, 1, 1, 1, 1, 1, 1, 1, 1, 1, 1, 1, 1, 1, 1, 1,\n",
       "       1, 1, 1, 1, 1, 1, 1, 1, 1, 1, 1, 1, 1, 1, 1, 1, 1, 0, 0, 0, 0, 0,\n",
       "       0, 0, 0, 0, 0, 0, 0, 0, 0, 0, 0, 0, 0, 0, 0, 0, 0, 0, 0, 0, 0, 0,\n",
       "       0, 0, 0, 0, 0, 0, 0, 0, 0, 0, 0, 0, 0, 0, 0, 0, 0, 0, 0, 0, 0, 0,\n",
       "       0, 0, 0, 0, 0, 0, 0, 0, 0, 0, 0, 0, 0, 0, 0, 0, 0, 0, 0, 0, 0, 0,\n",
       "       0, 0, 0, 0, 0, 0, 0, 0, 0, 0, 0, 0, 0, 0, 0, 0, 0, 0, 0, 0, 0, 0,\n",
       "       0, 0, 0, 0, 0, 0, 0, 0, 0, 0, 0, 0, 0, 0, 0, 0, 0, 0, 0, 0, 0, 0,\n",
       "       0, 0, 0, 0, 0, 0, 0, 0, 0, 0, 0, 0, 0, 0, 0, 0, 0, 0, 0, 0, 0, 0,\n",
       "       0, 0, 0, 0, 0, 0, 0, 0, 0, 1, 1, 1, 1, 1, 1, 1, 1, 1, 1, 0, 0, 0,\n",
       "       0, 0, 0, 0, 0, 0, 0, 0, 0, 0, 0, 0, 0, 0, 0, 0, 0, 0, 0, 1, 1, 1,\n",
       "       1, 1, 1, 1, 1, 1, 1, 1, 1, 1, 1, 1, 1, 1, 1, 1, 1, 1, 1, 1, 1, 1,\n",
       "       1, 1, 1, 1, 1, 1, 1, 1, 1, 1, 1, 1, 1, 1, 1, 1, 1, 1, 1, 1, 1, 1,\n",
       "       1, 1, 1, 1, 1, 1, 1, 1, 1, 1, 1, 1, 1, 1, 1, 1, 1, 1, 1, 1, 1, 1,\n",
       "       1, 1, 1, 1, 1, 1, 1, 1, 1, 1, 1, 1, 1, 1, 1, 1, 1, 1, 1, 1, 1, 1,\n",
       "       1, 1, 1, 1, 1, 1, 1, 1, 1, 1, 1, 1, 1, 1, 1, 1, 1, 1, 1, 1, 1, 1,\n",
       "       1, 1, 1, 1, 1, 1, 1, 1, 1, 1, 1, 1, 1, 1, 1, 1, 1, 1, 1, 1, 1, 1,\n",
       "       1, 1, 1, 1, 1, 1, 1, 1, 1, 1, 1, 1, 1, 1, 1, 1, 1, 1, 1, 1, 1, 1,\n",
       "       1, 1, 1, 1, 1, 1, 1, 1, 1, 1, 0, 0, 0, 0, 0, 1, 1, 0, 0, 0, 0, 0,\n",
       "       0, 0, 0, 0, 0, 0, 0, 0, 0, 0, 0, 0, 0, 0, 0, 0, 0, 0, 0, 0, 0, 0,\n",
       "       0, 0, 0, 1, 1, 1, 1, 1, 1, 1, 1, 1, 1, 0, 0, 0, 0, 0, 0, 0, 0, 0,\n",
       "       0, 0, 0, 0, 0, 0, 0, 0, 0, 0, 0, 0, 0, 0, 0, 0, 0, 0, 0, 1, 1, 1,\n",
       "       1, 1, 1, 1, 1, 1, 1, 1, 1, 1, 1, 1], dtype=int32)"
      ]
     },
     "execution_count": 28,
     "metadata": {},
     "output_type": "execute_result"
    }
   ],
   "source": [
    "kmeans.labels_"
   ]
  },
  {
   "cell_type": "markdown",
   "metadata": {},
   "source": [
    "seems not so accurate...barely difference for different people"
   ]
  },
  {
   "cell_type": "code",
   "execution_count": 31,
   "metadata": {},
   "outputs": [
    {
     "data": {
      "text/plain": [
       "array([2, 2, 2, 2, 2, 2, 2, 2, 2, 2, 2, 2, 2, 2, 2, 2, 2, 2, 2, 2, 2, 2,\n",
       "       2, 2, 2, 2, 2, 2, 2, 2, 2, 2, 2, 2, 2, 2, 2, 2, 2, 2, 2, 2, 2, 2,\n",
       "       2, 2, 2, 2, 2, 2, 2, 2, 2, 2, 2, 2, 2, 2, 2, 2, 2, 2, 2, 2, 2, 2,\n",
       "       2, 2, 2, 2, 2, 2, 2, 2, 2, 2, 2, 2, 2, 2, 2, 2, 2, 2, 2, 2, 2, 2,\n",
       "       2, 2, 2, 2, 2, 2, 2, 2, 2, 2, 2, 2, 2, 2, 2, 2, 2, 2, 2, 2, 2, 2,\n",
       "       2, 2, 2, 2, 2, 2, 2, 2, 2, 2, 2, 2, 2, 2, 2, 2, 2, 2, 2, 2, 2, 2,\n",
       "       2, 2, 2, 2, 2, 2, 2, 2, 2, 2, 2, 2, 2, 2, 2, 2, 2, 2, 2, 2, 2, 2,\n",
       "       2, 2, 2, 2, 2, 2, 2, 2, 2, 2, 2, 2, 2, 2, 2, 2, 2, 0, 2, 0, 0, 0,\n",
       "       0, 0, 0, 0, 0, 0, 0, 0, 0, 0, 0, 0, 0, 0, 0, 0, 0, 0, 0, 0, 0, 0,\n",
       "       0, 0, 0, 0, 0, 0, 0, 0, 0, 0, 0, 0, 0, 0, 0, 0, 0, 0, 0, 0, 0, 0,\n",
       "       0, 0, 0, 0, 0, 0, 0, 0, 0, 0, 0, 0, 0, 0, 0, 0, 0, 0, 0, 0, 0, 0,\n",
       "       0, 0, 0, 0, 0, 0, 0, 0, 0, 0, 0, 0, 0, 0, 0, 0, 0, 0, 0, 0, 0, 0,\n",
       "       0, 0, 0, 0, 0, 0, 0, 0, 0, 0, 0, 0, 0, 0, 0, 0, 2, 2, 2, 2, 2, 2,\n",
       "       2, 2, 2, 2, 0, 0, 0, 0, 0, 0, 0, 0, 0, 0, 0, 0, 0, 0, 0, 0, 0, 0,\n",
       "       0, 0, 0, 0, 2, 2, 2, 2, 2, 2, 2, 2, 2, 2, 2, 2, 2, 2, 2, 2, 2, 2,\n",
       "       2, 2, 2, 2, 2, 2, 2, 2, 2, 2, 2, 2, 2, 2, 2, 2, 2, 2, 2, 1, 2, 2,\n",
       "       2, 2, 2, 1, 1, 1, 1, 1, 1, 1, 1, 1, 1, 1, 1, 1, 1, 1, 1, 1, 1, 1,\n",
       "       1, 1, 1, 1, 1, 1, 1, 1, 1, 1, 1, 1, 1, 2, 2, 2, 2, 1, 1, 1, 1, 1,\n",
       "       1, 1, 1, 1, 1, 1, 1, 1, 1, 1, 1, 1, 1, 1, 1, 1, 1, 1, 1, 1, 1, 1,\n",
       "       1, 1, 1, 1, 1, 1, 1, 1, 1, 1, 1, 1, 1, 1, 1, 1, 1, 1, 1, 1, 1, 1,\n",
       "       1, 1, 1, 1, 1, 1, 1, 1, 1, 1, 1, 1, 1, 1, 1, 1, 1, 1, 1, 1, 1, 1,\n",
       "       1, 1, 1, 1, 1, 1, 1, 1, 1, 1, 1, 1, 1, 1, 1, 1, 1, 1, 1, 1, 1, 1,\n",
       "       1, 1, 1, 1, 1, 1, 1, 1, 1, 1, 1, 1, 1, 1, 1, 1, 1, 1, 1, 1, 1, 1,\n",
       "       1, 1, 1, 1, 1, 1, 1, 1, 1, 1, 0, 0, 0, 2, 2, 2, 2, 2, 0, 0, 0, 0,\n",
       "       0, 0, 0, 0, 0, 0, 0, 0, 0, 0, 0, 0, 0, 2, 2, 2, 2, 2, 2, 2, 2, 2,\n",
       "       2, 2, 2, 2, 2, 2, 2, 2, 2, 2, 2, 2, 2, 0, 0, 0, 0, 0, 0, 0, 0, 0,\n",
       "       0, 0, 0, 0, 0, 0, 0, 0, 0, 0, 0, 0, 0, 0, 0, 0, 0, 0, 2, 2, 2, 2,\n",
       "       2, 2, 2, 2, 2, 2, 2, 2, 2, 2, 2, 2], dtype=int32)"
      ]
     },
     "execution_count": 31,
     "metadata": {},
     "output_type": "execute_result"
    }
   ],
   "source": [
    "kmeans2 = KMeans(n_clusters=3, init='k-means++')\n",
    "kmeans2.fit(x)\n",
    "kmeans2.labels_"
   ]
  },
  {
   "cell_type": "code",
   "execution_count": 35,
   "metadata": {},
   "outputs": [
    {
     "data": {
      "image/png": "[encoded data removed]",
      "text/plain": [
       "<Figure size 864x432 with 1 Axes>"
      ]
     },
     "metadata": {
      "needs_background": "light"
     },
     "output_type": "display_data"
    }
   ],
   "source": [
    "#fitting multiple k-means algos and storing the values in an empty list\n",
    "SSE = []\n",
    "for cluster in range(1,20):\n",
    "    kmeans = KMeans(n_jobs = -1, n_clusters = cluster, init='k-means++')\n",
    "    kmeans.fit(x)\n",
    "    SSE.append(kmeans.inertia_)\n",
    "\n",
    "#plot\n",
    "frame = pd.DataFrame({'Cluster':range(1,20), 'SSE':SSE})\n",
    "plt.figure(figsize=(12,6))\n",
    "plt.plot(frame['Cluster'], frame['SSE'], marker='o')\n",
    "plt.xlabel('Number of clusters')\n",
    "plt.show()\n"
   ]
  },
  {
   "cell_type": "code",
   "execution_count": 39,
   "metadata": {},
   "outputs": [
    {
     "data": {
      "text/plain": [
       "array([ 0,  0,  0,  0,  0,  0,  0,  0,  0,  0,  0,  0,  0,  0,  0,  0,  0,\n",
       "        0,  0,  0,  0,  0,  0,  0,  0,  0, -1, -1, -1, -1, -1, -1,  0,  0,\n",
       "        0,  0,  0,  0,  0,  0,  0,  0,  0,  0,  0,  0,  0,  0,  0,  0,  0,\n",
       "        0,  0,  0,  0,  0,  0,  0,  0,  0,  0,  0,  0,  0,  0,  0,  0,  0,\n",
       "        0,  0,  0,  0,  0,  0,  0,  0,  0,  0,  0,  0,  0,  0,  0,  0,  0,\n",
       "        0,  0,  0,  0,  0,  0,  0,  0,  0,  0,  0,  0,  0,  0,  0,  0,  0,\n",
       "        0,  0,  0,  0,  0,  0,  0,  0,  0,  0,  0,  0,  0,  0,  0,  0,  0,\n",
       "        0,  0,  0,  0,  0,  0,  0,  0,  0,  0,  0,  0,  0,  0,  0,  0,  0,\n",
       "        0,  0,  0,  0,  0,  0,  0,  0,  0,  0,  0,  0,  0,  0,  0,  0,  0,\n",
       "        0,  0,  0,  0,  0,  0,  0,  0,  0,  0,  0,  0,  0,  0,  0,  0,  0,\n",
       "        0, -1, -1, -1, -1, -1,  0, -1, -1,  0,  0,  0,  0,  0,  0,  0,  0,\n",
       "        0,  0,  0,  0,  0,  0,  0,  0,  0,  0,  0,  0,  0,  0,  0,  0,  0,\n",
       "        0,  0,  0,  0,  0,  0,  0,  0,  0,  0,  0,  0,  0,  0,  0,  0,  0,\n",
       "        0,  0,  0,  0,  0,  0,  0,  0,  0,  0,  0,  0,  0,  0,  0,  0,  0,\n",
       "        0,  0,  0,  0,  0,  0,  0,  0,  0,  0,  0,  0,  0,  0,  0,  0,  0,\n",
       "        0,  0,  0,  0,  0,  0,  0,  0,  0,  0,  0,  0,  0,  0,  0,  0,  0,\n",
       "        0,  0,  0,  0,  0,  0,  0,  0,  0,  0,  0,  0,  0,  0,  0,  0,  0,\n",
       "        0,  0,  0,  0, -1,  0,  0,  0,  0,  0,  0,  0,  0,  0,  0,  0,  0,\n",
       "        0,  0,  0,  0,  0,  0,  0, -1,  0,  0,  0, -1, -1, -1, -1, -1, -1,\n",
       "       -1,  0,  0,  0,  0,  0,  0,  0,  0,  0,  0,  0,  0,  0,  0,  0,  0,\n",
       "        0,  0,  0,  0,  0,  0,  0,  0,  0, -1, -1, -1, -1, -1, -1,  0,  0,\n",
       "        0,  0,  0,  0,  0,  0,  0,  0,  0,  0,  0,  0,  0,  0,  0,  0,  0,\n",
       "        0,  0,  0,  0,  0,  0,  0,  0,  0,  0,  0,  0,  0, -1, -1, -1,  0,\n",
       "        0,  0,  0,  0,  0,  0,  0,  0,  0,  0,  0,  0,  0,  0,  0,  0,  0,\n",
       "        0,  0,  0,  0,  0,  0,  0,  0,  0,  0,  0,  0,  0,  0,  0,  0,  0,\n",
       "        0,  0,  0,  0,  0,  0,  0,  0,  0,  0,  0,  0,  0,  0,  0,  0,  0,\n",
       "        0,  0,  0,  0,  0,  0,  0,  0,  0,  0,  0,  0,  0,  0,  0,  0,  0,\n",
       "        0,  0,  0,  0,  0,  0,  0,  0,  0,  0,  0,  0,  0,  0,  0,  0,  0,\n",
       "        0,  0,  0,  0,  0,  0,  0,  0,  0,  0,  0,  0,  0,  0,  0,  0,  0,\n",
       "        0,  0,  0,  0,  0,  0,  0,  0,  0,  0,  0,  0,  0,  0,  0,  0,  0,\n",
       "        0,  0,  0,  0,  0,  0,  0,  0,  0,  0,  0,  0,  0,  0,  0,  0,  0,\n",
       "        0,  0,  0,  0,  0,  0,  0,  0,  0,  0,  0,  0,  0,  0,  0,  0,  0,\n",
       "        0,  0,  0,  0,  0,  0,  0,  0,  0,  0,  0,  0,  0,  0,  0, -1,  0,\n",
       "        0,  0,  0,  0,  0,  0,  0,  0,  0,  0,  0,  0,  0, -1,  0,  0, -1,\n",
       "        0,  0,  0,  0,  0,  0,  0,  0,  0,  0,  0,  0,  0,  0,  0,  0,  0,\n",
       "        0,  0,  0,  0,  0,  0,  0, -1, -1, -1, -1])"
      ]
     },
     "execution_count": 39,
     "metadata": {},
     "output_type": "execute_result"
    }
   ],
   "source": [
    "from scipy import stats\n",
    "from sklearn.cluster import DBSCAN\n",
    "dbscan = DBSCAN(eps=2, min_samples = 10)\n",
    "dbscan.fit(x).labels_"
   ]
  },
  {
   "cell_type": "code",
   "execution_count": 40,
   "metadata": {},
   "outputs": [
    {
     "data": {
      "text/plain": [
       "DescribeResult(nobs=606, minmax=(-1, 3), mean=1.0198019801980198, variance=1.8541526879960721, skewness=0.2787003506300712, kurtosis=-1.124876258768359)"
      ]
     },
     "execution_count": 40,
     "metadata": {},
     "output_type": "execute_result"
    }
   ],
   "source": [
    "dbscan = DBSCAN(eps=2, min_samples = 20)\n",
    "gg = dbscan.fit(x).labels_\n",
    "stats.describe(gg)"
   ]
  },
  {
   "cell_type": "code",
   "execution_count": 41,
   "metadata": {},
   "outputs": [
    {
     "data": {
      "text/plain": [
       "DescribeResult(nobs=606, minmax=(-1, 2), mean=0.5973597359735974, variance=1.1467037612852196, skewness=-0.10028546033215809, kurtosis=-1.2405943989168842)"
      ]
     },
     "execution_count": 41,
     "metadata": {},
     "output_type": "execute_result"
    }
   ],
   "source": [
    "dbscan = DBSCAN(eps=2, min_samples = 30)\n",
    "gg = dbscan.fit(x).labels_\n",
    "stats.describe(gg)"
   ]
  },
  {
   "cell_type": "code",
   "execution_count": 42,
   "metadata": {},
   "outputs": [
    {
     "data": {
      "text/plain": [
       "DescribeResult(nobs=606, minmax=(-1, 2), mean=0.46864686468646866, variance=1.2808335378992446, skewness=0.06408526313799251, kurtosis=-1.3849330245182079)"
      ]
     },
     "execution_count": 42,
     "metadata": {},
     "output_type": "execute_result"
    }
   ],
   "source": [
    "dbscan = DBSCAN(eps=2, min_samples = 40)\n",
    "gg = dbscan.fit(x).labels_\n",
    "stats.describe(gg)"
   ]
  },
  {
   "cell_type": "code",
   "execution_count": 43,
   "metadata": {},
   "outputs": [
    {
     "data": {
      "text/plain": [
       "DescribeResult(nobs=606, minmax=(-1, 2), mean=0.367986798679868, variance=1.3701470147014703, skewness=0.19565444601652474, kurtosis=-1.4379689191023453)"
      ]
     },
     "execution_count": 43,
     "metadata": {},
     "output_type": "execute_result"
    }
   ],
   "source": [
    "dbscan = DBSCAN(eps=2, min_samples = 50)\n",
    "gg = dbscan.fit(x).labels_\n",
    "stats.describe(gg)"
   ]
  },
  {
   "cell_type": "code",
   "execution_count": 44,
   "metadata": {},
   "outputs": [
    {
     "data": {
      "text/plain": [
       "DescribeResult(nobs=606, minmax=(-1, 5), mean=0.6336633663366337, variance=5.561443417068981, skewness=1.072568161350663, kurtosis=-0.5810092708364607)"
      ]
     },
     "execution_count": 44,
     "metadata": {},
     "output_type": "execute_result"
    }
   ],
   "source": [
    "dbscan = DBSCAN(eps=1, min_samples = 10)\n",
    "gg = dbscan.fit(x).labels_\n",
    "stats.describe(gg)"
   ]
  },
  {
   "cell_type": "code",
   "execution_count": 45,
   "metadata": {},
   "outputs": [
    {
     "data": {
      "text/plain": [
       "DescribeResult(nobs=606, minmax=(-1, 0), mean=-0.0627062706270627, variance=0.05887134167962249, skewness=-3.607529602027313, kurtosis=11.014269829503341)"
      ]
     },
     "execution_count": 45,
     "metadata": {},
     "output_type": "execute_result"
    }
   ],
   "source": [
    "dbscan = DBSCAN(eps=2, min_samples = 10)\n",
    "gg = dbscan.fit(x).labels_\n",
    "stats.describe(gg)"
   ]
  },
  {
   "cell_type": "code",
   "execution_count": 46,
   "metadata": {},
   "outputs": [
    {
     "data": {
      "text/plain": [
       "DescribeResult(nobs=606, minmax=(-1, 0), mean=-0.009900990099009901, variance=0.009819163734555271, skewness=-9.900000000000002, kurtosis=96.01000000000003)"
      ]
     },
     "execution_count": 46,
     "metadata": {},
     "output_type": "execute_result"
    }
   ],
   "source": [
    "dbscan = DBSCAN(eps=3, min_samples = 10)\n",
    "gg = dbscan.fit(x).labels_\n",
    "stats.describe(gg)"
   ]
  },
  {
   "cell_type": "code",
   "execution_count": 47,
   "metadata": {},
   "outputs": [
    {
     "data": {
      "text/plain": [
       "DescribeResult(nobs=606, minmax=(0, 0), mean=0.0, variance=0.0, skewness=0.0, kurtosis=-3.0)"
      ]
     },
     "execution_count": 47,
     "metadata": {},
     "output_type": "execute_result"
    }
   ],
   "source": [
    "dbscan = DBSCAN(eps=4, min_samples = 10)\n",
    "gg = dbscan.fit(x).labels_\n",
    "stats.describe(gg)"
   ]
  },
  {
   "cell_type": "code",
   "execution_count": 48,
   "metadata": {},
   "outputs": [
    {
     "data": {
      "text/plain": [
       "DescribeResult(nobs=606, minmax=(0, 0), mean=0.0, variance=0.0, skewness=0.0, kurtosis=-3.0)"
      ]
     },
     "execution_count": 48,
     "metadata": {},
     "output_type": "execute_result"
    }
   ],
   "source": [
    "dbscan = DBSCAN(eps=5, min_samples = 10)\n",
    "gg = dbscan.fit(x).labels_\n",
    "stats.describe(gg)"
   ]
  },
  {
   "cell_type": "code",
   "execution_count": null,
   "metadata": {},
   "outputs": [],
   "source": []
  }
 ],
 "metadata": {
  "kernelspec": {
   "display_name": "Python 3",
   "language": "python",
   "name": "python3"
  },
  "language_info": {
   "codemirror_mode": {
    "name": "ipython",
    "version": 3
   },
   "file_extension": ".py",
   "mimetype": "text/x-python",
   "name": "python",
   "nbconvert_exporter": "python",
   "pygments_lexer": "ipython3",
   "version": "3.7.4"
  }
 },
 "nbformat": 4,
 "nbformat_minor": 2
}
